{
 "cells": [
  {
   "cell_type": "code",
   "execution_count": 1,
   "metadata": {},
   "outputs": [
    {
     "name": "stdout",
     "output_type": "stream",
     "text": [
      "Name :\n",
      "We will start learning about data visualization, and fetching the data\n",
      "Plot bar graphs for the countries who has the highest and lowest number of satellites in space\n"
     ]
    }
   ],
   "source": [
    "print(\"Name :\")\n",
    "print(\"We will start learning about data visualization, and fetching the data\")\n",
    "print(\"Plot bar graphs for the countries who has the highest and lowest number of satellites in space\")"
   ]
  },
  {
   "cell_type": "code",
   "execution_count": 3,
   "metadata": {},
   "outputs": [
    {
     "name": "stdout",
     "output_type": "stream",
     "text": [
      "                          Country/Organization Name  Satellites In Orbit\n",
      "0                                     UNITED STATES               2825.0\n",
      "1  COMMONWEALTH OF INDEPENDENT STATES (FORMER USSR)               1535.0\n",
      "2                        PEOPLE'S REPUBLIC OF CHINA                436.0\n",
      "3                                             JAPAN                188.0\n",
      "4                                    UNITED KINGDOM                154.0\n"
     ]
    },
    {
     "data": {
      "text/plain": [
       "<BarContainer object of 5 artists>"
      ]
     },
     "execution_count": 3,
     "metadata": {},
     "output_type": "execute_result"
    },
    {
     "data": {
      "image/png": "[encoded data removed]",
      "text/plain": [
       "<Figure size 432x288 with 1 Axes>"
      ]
     },
     "metadata": {
      "needs_background": "light"
     },
     "output_type": "display_data"
    }
   ],
   "source": [
    "#Activity 1 \n",
    "#Q - Plot a bar graph for top 5 Country/Organization who has the most number of Satellites In Space\n",
    "\n",
    "import  numpy as np\n",
    "import pandas as pd\n",
    "from matplotlib import pyplot as plt\n",
    "\n",
    "dataframe = pd.read_csv('country_satellites.csv')\n",
    "\n",
    "top_5 = dataframe.head(5)\n",
    "print(top_5)\n",
    "name = top_5['Country/Organization Name']\n",
    "number = top_5['Satellites In Orbit']\n",
    "\n",
    "\n",
    "plt.xlabel(\"Country/Organization Name\")\n",
    "plt.xticks(rotation='vertical')\n",
    "plt.ylabel(\"Satellites In Orbit\")\n",
    "\n",
    "\n",
    "label = name\n",
    "value = number \n",
    "plt.bar(label, value,width=0.4, color=('red','blue','green','pink','yellow')) #bar-grap\n",
    "\n"
   ]
  },
  {
   "cell_type": "code",
   "execution_count": 1,
   "metadata": {},
   "outputs": [],
   "source": [
    "#Activity 2\n",
    "#Q - Plot a bar graph for 20 Country/Organization who has the least number of Satellites In Space\n"
   ]
  },
  {
   "cell_type": "raw",
   "metadata": {},
   "source": []
  },
  {
   "cell_type": "code",
   "execution_count": null,
   "metadata": {},
   "outputs": [],
   "source": []
  },
  {
   "cell_type": "code",
   "execution_count": null,
   "metadata": {},
   "outputs": [],
   "source": []
  },
  {
   "cell_type": "code",
   "execution_count": null,
   "metadata": {},
   "outputs": [],
   "source": []
  },
  {
   "cell_type": "code",
   "execution_count": null,
   "metadata": {},
   "outputs": [],
   "source": []
  }
 ],
 "metadata": {
  "kernelspec": {
   "display_name": "Python 3",
   "language": "python",
   "name": "python3"
  },
  "language_info": {
   "codemirror_mode": {
    "name": "ipython",
    "version": 3
   },
   "file_extension": ".py",
   "mimetype": "text/x-python",
   "name": "python",
   "nbconvert_exporter": "python",
   "pygments_lexer": "ipython3",
   "version": "3.7.6"
  }
 },
 "nbformat": 4,
 "nbformat_minor": 4
}
